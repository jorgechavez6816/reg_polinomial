{
 "cells": [
  {
   "cell_type": "code",
   "execution_count": 24,
   "metadata": {},
   "outputs": [
    {
     "name": "stdout",
     "output_type": "stream",
     "text": [
      "          COD_PROD_01  COD_PROD_02  COD_PROD_03  COD_PROD_04  COD_PROD_05  \\\n",
      "NUM_FACT                                                                    \n",
      "1000001           0.0       371.09         0.00          0.0         0.00   \n",
      "1000002           0.0         0.00      2706.55          0.0         0.00   \n",
      "1000003           0.0         0.00         0.00          0.0       593.01   \n",
      "1000004           0.0         0.00      2281.24          0.0         0.00   \n",
      "1000005           0.0         0.00       850.63          0.0         0.00   \n",
      "...               ...          ...          ...          ...          ...   \n",
      "1000896           0.0         0.00         0.00          0.0       856.57   \n",
      "1000897           0.0         0.00         0.00          0.0       329.45   \n",
      "1000898           0.0         0.00         0.00          0.0     31864.40   \n",
      "1000899           0.0         0.00         0.00          0.0      1970.11   \n",
      "1000900           0.0         0.00         0.00          0.0      4730.90   \n",
      "\n",
      "          COD_PROD_06     TOTAL  \n",
      "NUM_FACT                         \n",
      "1000001           0.0    371.09  \n",
      "1000002           0.0   2706.55  \n",
      "1000003           0.0    593.01  \n",
      "1000004           0.0   2281.24  \n",
      "1000005           0.0    850.63  \n",
      "...               ...       ...  \n",
      "1000896           0.0    856.57  \n",
      "1000897           0.0    329.45  \n",
      "1000898           0.0  31864.40  \n",
      "1000899           0.0   1970.11  \n",
      "1000900           0.0   4730.90  \n",
      "\n",
      "[894 rows x 7 columns]\n",
      "(894, 7)\n"
     ]
    },
    {
     "data": {
      "image/png": "[encoded data removed]",
      "text/plain": [
       "<Figure size 432x288 with 1 Axes>"
      ]
     },
     "metadata": {
      "needs_background": "light"
     },
     "output_type": "display_data"
    }
   ],
   "source": [
    "#Instalar en conso#Instalar en consola cmd: pip3 install xlrd\n",
    "#Instalar en consola cmd: pip3 install csv\n",
    "#Instalar en consola anaconda: conda install -c anaconda csvkit\n",
    "\n",
    "#1. Importación de librerias a utilizar\n",
    "import pandas as pd\n",
    "import csv\n",
    "import numpy as np\n",
    "from sklearn import linear_model\n",
    "from sklearn.linear_model import LinearRegression\n",
    "from sklearn.metrics import mean_squared_error\n",
    "import matplotlib.pyplot as plt\n",
    "\n",
    "#2. Obtener data de origen\n",
    "df = pd.read_excel('C:\\\\Users\\\\Intel\\\\Documents\\\\Mis documentos IDEA\\\\Samples\\Exportaciones.ILB\\\\Tabladinámica10.xlsx', index_col=0)\n",
    "print(df)\n",
    "print(df.shape)\n",
    "data_top=df.head()\n",
    "df.head()\n",
    "\n",
    "#3. Selección de columnas de trabajo\n",
    "y_p = df['TOTAL']\n",
    "X_p = df[['COD_PROD_06']]\n",
    "\n",
    "#4. Gráfica de datos\n",
    "plt.scatter(X_p, y_p)\n",
    "plt.show()"
   ]
  },
  {
   "cell_type": "code",
   "execution_count": 25,
   "metadata": {},
   "outputs": [
    {
     "data": {
      "image/png": "[encoded data removed]",
      "text/plain": [
       "<Figure size 432x288 with 1 Axes>"
      ]
     },
     "metadata": {
      "needs_background": "light"
     },
     "output_type": "display_data"
    }
   ],
   "source": [
    "from sklearn.model_selection import train_test_split\n",
    "\n",
    "#Separación de los datos de \"train\" en entrenamiento y prueba para probar los algoritmos\n",
    "X_train_p, X_test_p, y_train_p, y_test_p = train_test_split(X_p, y_p, test_size=0.2)\n",
    "\n",
    "from sklearn.preprocessing import PolynomialFeatures\n",
    "#Se define el grado del polinomio\n",
    "poli_reg = PolynomialFeatures(degree = 2)\n",
    "\n",
    "#Se transforma las características existentes en características de mayor grado\n",
    "X_train_poli = poli_reg.fit_transform(X_train_p)\n",
    "X_test_poli = poli_reg.fit_transform(X_test_p)\n",
    "\n",
    "#Definición del algoritmo a utilizar\n",
    "pr = linear_model.LinearRegression()\n",
    "\n",
    "#Entreno el modelo\n",
    "pr.fit(X_train_poli, y_train_p)\n",
    "\n",
    "#Realizo una predicción\n",
    "Y_pred_pr = pr.predict(X_test_poli)\n",
    "\n",
    "#Graficamos los datos junto con el modelo\n",
    "plt.scatter(X_test_p, y_test_p)\n",
    "plt.plot(X_test_p, Y_pred_pr, color='red', linewidth=3)\n",
    "plt.show()"
   ]
  },
  {
   "cell_type": "code",
   "execution_count": 26,
   "metadata": {},
   "outputs": [
    {
     "name": "stdout",
     "output_type": "stream",
     "text": [
      "Valor de la pendiente o coeficiente \"a\":\n",
      "[0.00000000e+00 9.64432807e-01 8.80882058e-09]\n",
      "Valor de la intersección o coeficiente \"b\":\n",
      "5056.925973972642\n",
      "Precisión del modelo:\n",
      "0.9876482780043686\n"
     ]
    }
   ],
   "source": [
    "print('Valor de la pendiente o coeficiente \"a\":')\n",
    "print(pr.coef_)\n",
    "\n",
    "print('Valor de la intersección o coeficiente \"b\":')\n",
    "print(pr.intercept_)\n",
    "\n",
    "print('Precisión del modelo:')\n",
    "print(pr.score(X_train_poli, y_train_p))\n"
   ]
  },
  {
   "cell_type": "code",
   "execution_count": 27,
   "metadata": {},
   "outputs": [],
   "source": [
    "#Exportar resultados a csv\n",
    "myData = [['Valor nulo','COD_PROD_06_x', 'COD_PROD_06_x^2','Constante'], [pr.coef_, pr.intercept_]]\n",
    "myFile = open('C:\\\\Users\\\\Intel\\\\Documents\\\\Mis documentos IDEA\\\\Samples\\Exportaciones.ILB\\\\Regresion_Polinomial01.csv', 'w')\n",
    "with myFile:\n",
    "   writer = csv.writer(myFile)\n",
    "   writer.writerows(myData)"
   ]
  },
  {
   "cell_type": "code",
   "execution_count": 47,
   "metadata": {},
   "outputs": [
    {
     "name": "stdout",
     "output_type": "stream",
     "text": [
      "Valor : \n",
      " [101500.20669495]\n"
     ]
    }
   ],
   "source": [
    "#Para prueba del modelo indicar en la matriz, tres valores.\n",
    "COD_PROD_06 = [1,100000,1]\n",
    "print(\"Valor : \\n\", pr.predict([COD_PROD_06]))"
   ]
  },
  {
   "cell_type": "code",
   "execution_count": null,
   "metadata": {},
   "outputs": [],
   "source": []
  }
 ],
 "metadata": {
  "kernelspec": {
   "display_name": "Python 3",
   "language": "python",
   "name": "python3"
  },
  "language_info": {
   "codemirror_mode": {
    "name": "ipython",
    "version": 3
   },
   "file_extension": ".py",
   "mimetype": "text/x-python",
   "name": "python",
   "nbconvert_exporter": "python",
   "pygments_lexer": "ipython3",
   "version": "3.7.6"
  }
 },
 "nbformat": 4,
 "nbformat_minor": 4
}
